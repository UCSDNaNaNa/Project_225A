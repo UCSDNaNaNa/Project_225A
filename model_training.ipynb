{
 "cells": [
  {
   "cell_type": "markdown",
   "metadata": {},
   "source": [
    "## Load Data"
   ]
  },
  {
   "cell_type": "code",
   "execution_count": 1,
   "metadata": {},
   "outputs": [
    {
     "name": "stdout",
     "output_type": "stream",
     "text": [
      "/Users/sujenkancherla/Documents/child-mind-institute-problematic-internet-use\n"
     ]
    }
   ],
   "source": [
    "import numpy as np\n",
    "import pandas as pd\n",
    "\n",
    "from sklearn.model_selection import train_test_split\n",
    "from sklearn.linear_model import LogisticRegression\n",
    "from sklearn.metrics import accuracy_score\n",
    "from sklearn.pipeline import make_pipeline\n",
    "from sklearn.preprocessing import StandardScaler\n",
    "\n",
    "%cd ../child-mind-institute-problematic-internet-use/"
   ]
  },
  {
   "cell_type": "code",
   "execution_count": 2,
   "metadata": {},
   "outputs": [
    {
     "name": "stdout",
     "output_type": "stream",
     "text": [
      "Phyisological Data Size: 972\n",
      "Original Train data size: 2736\n"
     ]
    }
   ],
   "source": [
    "data = pd.read_csv(\"train.csv\")\n",
    "phys_df = pd.read_csv('../Project_225A/phy_other_overall.csv')\n",
    "\n",
    "# Discard no label data\n",
    "data = data.dropna(subset=[\"sii\"])\n",
    "\n",
    "print(f'Phyisological Data Size: {len(phys_df)}\\nOriginal Train data size: {len(data)}')"
   ]
  },
  {
   "cell_type": "markdown",
   "metadata": {},
   "source": [
    "## Feature Selection"
   ]
  },
  {
   "cell_type": "code",
   "execution_count": 3,
   "metadata": {},
   "outputs": [
    {
     "name": "stdout",
     "output_type": "stream",
     "text": [
      "sii                                       1.000000\n",
      "Physical-Height                           0.373530\n",
      "Basic_Demos-Age                           0.365990\n",
      "PreInt_EduHx-computerinternet_hoursday    0.336526\n",
      "Physical-Weight                           0.325938\n",
      "FGC-FGC_CU                                0.247364\n",
      "SDS-SDS_Total_T                           0.232982\n",
      "SDS-SDS_Total_Raw                         0.229692\n",
      "BIA-BIA_BMI                               0.227818\n",
      "Physical-BMI                              0.221125\n",
      "FGC-FGC_PU                                0.177125\n",
      "FGC-FGC_GSD                               0.163448\n",
      "FGC-FGC_GSND                              0.149495\n",
      "FGC-FGC_TL                                0.107623\n",
      "BIA-BIA_SMM                               0.046692\n",
      "BIA-BIA_DEE                               0.045239\n",
      "BIA-BIA_TBW                               0.037513\n",
      "BIA-BIA_Fat                               0.037357\n",
      "BIA-BIA_BMR                               0.031965\n",
      "Fitness_Endurance-Time_Sec                0.008701\n",
      "BIA-BIA_BMC                              -0.010336\n",
      "FGC-FGC_SRR                              -0.035858\n",
      "FGC-FGC_SRL                              -0.049257\n",
      "Fitness_Endurance-Time_Mins              -0.060628\n",
      "Fitness_Endurance-Max_Stage              -0.070589\n",
      "Basic_Demos-Sex                          -0.100148\n",
      "Name: sii, dtype: float64\n"
     ]
    }
   ],
   "source": [
    "interested_item = [\"Basic_Demos-Age\", \"Basic_Demos-Sex\",\n",
    "                   \"Physical-BMI\", \"Physical-Height\", \"Physical-Weight\",\n",
    "                   \"Fitness_Endurance-Max_Stage\", \"Fitness_Endurance-Time_Mins\", \"Fitness_Endurance-Time_Sec\",\n",
    "                   \"FGC-FGC_CU\", \"FGC-FGC_GSND\", \"FGC-FGC_GSD\", \"FGC-FGC_PU\", \"FGC-FGC_SRL\", \"FGC-FGC_SRR\", \"FGC-FGC_TL\",\n",
    "                   \"BIA-BIA_BMC\", \"BIA-BIA_BMI\", \"BIA-BIA_BMR\", \"BIA-BIA_DEE\", \"BIA-BIA_Fat\", \"BIA-BIA_SMM\", \"BIA-BIA_TBW\",\n",
    "                   \"SDS-SDS_Total_Raw\", \"SDS-SDS_Total_T\", \n",
    "                   \"PreInt_EduHx-computerinternet_hoursday\", \"sii\"]\n",
    "\n",
    "corr_matrix = data[interested_item].corr(method='pearson')\n",
    "sii_corr = corr_matrix['sii'].sort_values(ascending=False)\n",
    "print(sii_corr)\n"
   ]
  },
  {
   "cell_type": "code",
   "execution_count": 4,
   "metadata": {},
   "outputs": [],
   "source": [
    "phys_df = phys_df.loc[:, ~phys_df.columns.str.startswith('acc')]"
   ]
  },
  {
   "cell_type": "code",
   "execution_count": 5,
   "metadata": {},
   "outputs": [],
   "source": [
    "interested_item = [\"Basic_Demos-Age\", \"Physical-Height\", \"Physical-Weight\", \"FGC-FGC_CU\", \n",
    "                   \"BIA-BIA_BMR\", \"BIA-BIA_DEE\", \"BIA-BIA_Fat\", \"BIA-BIA_SMM\", \"BIA-BIA_TBW\", \n",
    "                   \"PreInt_EduHx-computerinternet_hoursday\", \"sii\"]\n",
    "train_selected_features = data[['id'] + interested_item].dropna()\n"
   ]
  },
  {
   "cell_type": "markdown",
   "metadata": {},
   "source": [
    "## Pre process\n",
    "\n",
    "### Body Fat Values\n",
    "The boday fat values should have a range of 0 to 50 which is valid for an individual body fat. The dataset has many weird values with some being negative even. To address this we replace the out of range values with the median imputed."
   ]
  },
  {
   "cell_type": "code",
   "execution_count": 6,
   "metadata": {},
   "outputs": [],
   "source": [
    "valid_min = 0\n",
    "valid_max = 50\n",
    "\n",
    "# Step 2: Replace outliers with NaN\n",
    "train_selected_features['BIA-BIA_Fat'] = train_selected_features['BIA-BIA_Fat'].apply(lambda x: x if valid_min <= x <= valid_max else np.nan)\n",
    "\n",
    "# Step 3: Impute missing values\n",
    "# Option 1: Replace with median\n",
    "median_fat = train_selected_features['BIA-BIA_Fat'].median()\n",
    "train_selected_features.fillna({'BIA-BIA_Fat': median_fat}, inplace=True)"
   ]
  },
  {
   "cell_type": "markdown",
   "metadata": {},
   "source": [
    "### Merge Physiological with train data"
   ]
  },
  {
   "cell_type": "code",
   "execution_count": 7,
   "metadata": {},
   "outputs": [
    {
     "data": {
      "text/html": [
       "<div>\n",
       "<style scoped>\n",
       "    .dataframe tbody tr th:only-of-type {\n",
       "        vertical-align: middle;\n",
       "    }\n",
       "\n",
       "    .dataframe tbody tr th {\n",
       "        vertical-align: top;\n",
       "    }\n",
       "\n",
       "    .dataframe thead th {\n",
       "        text-align: right;\n",
       "    }\n",
       "</style>\n",
       "<table border=\"1\" class=\"dataframe\">\n",
       "  <thead>\n",
       "    <tr style=\"text-align: right;\">\n",
       "      <th></th>\n",
       "      <th>id</th>\n",
       "      <th>Basic_Demos-Age</th>\n",
       "      <th>Physical-Height</th>\n",
       "      <th>Physical-Weight</th>\n",
       "      <th>FGC-FGC_CU</th>\n",
       "      <th>BIA-BIA_BMR</th>\n",
       "      <th>BIA-BIA_DEE</th>\n",
       "      <th>BIA-BIA_Fat</th>\n",
       "      <th>BIA-BIA_SMM</th>\n",
       "      <th>BIA-BIA_TBW</th>\n",
       "      <th>PreInt_EduHx-computerinternet_hoursday</th>\n",
       "      <th>sii</th>\n",
       "      <th>non_wear_ratio</th>\n",
       "      <th>enmo_avg</th>\n",
       "      <th>enmo_wear</th>\n",
       "      <th>enmo_night</th>\n",
       "      <th>enmo_day</th>\n",
       "      <th>enmo_high</th>\n",
       "    </tr>\n",
       "  </thead>\n",
       "  <tbody>\n",
       "    <tr>\n",
       "      <th>0</th>\n",
       "      <td>00115b9f</td>\n",
       "      <td>9.0</td>\n",
       "      <td>56.00</td>\n",
       "      <td>81.6</td>\n",
       "      <td>18.0</td>\n",
       "      <td>1131.43</td>\n",
       "      <td>1923.44</td>\n",
       "      <td>18.82430</td>\n",
       "      <td>26.4798</td>\n",
       "      <td>45.9966</td>\n",
       "      <td>0.0</td>\n",
       "      <td>1.0</td>\n",
       "      <td>0.000000</td>\n",
       "      <td>0.047388</td>\n",
       "      <td>0.047388</td>\n",
       "      <td>0.026886</td>\n",
       "      <td>0.047848</td>\n",
       "      <td>0.000231</td>\n",
       "    </tr>\n",
       "    <tr>\n",
       "      <th>1</th>\n",
       "      <td>001f3379</td>\n",
       "      <td>13.0</td>\n",
       "      <td>59.50</td>\n",
       "      <td>112.2</td>\n",
       "      <td>12.0</td>\n",
       "      <td>1330.97</td>\n",
       "      <td>1996.45</td>\n",
       "      <td>14.47300</td>\n",
       "      <td>35.3804</td>\n",
       "      <td>63.1265</td>\n",
       "      <td>0.0</td>\n",
       "      <td>1.0</td>\n",
       "      <td>0.655708</td>\n",
       "      <td>0.011926</td>\n",
       "      <td>0.016461</td>\n",
       "      <td>0.005247</td>\n",
       "      <td>0.025072</td>\n",
       "      <td>0.000008</td>\n",
       "    </tr>\n",
       "    <tr>\n",
       "      <th>2</th>\n",
       "      <td>00f332d1</td>\n",
       "      <td>14.0</td>\n",
       "      <td>66.50</td>\n",
       "      <td>108.0</td>\n",
       "      <td>16.0</td>\n",
       "      <td>1414.24</td>\n",
       "      <td>2969.90</td>\n",
       "      <td>15.10200</td>\n",
       "      <td>42.1074</td>\n",
       "      <td>68.6822</td>\n",
       "      <td>2.0</td>\n",
       "      <td>1.0</td>\n",
       "      <td>0.171246</td>\n",
       "      <td>0.030255</td>\n",
       "      <td>0.036441</td>\n",
       "      <td>0.005242</td>\n",
       "      <td>0.065173</td>\n",
       "      <td>0.000317</td>\n",
       "    </tr>\n",
       "    <tr>\n",
       "      <th>3</th>\n",
       "      <td>01085eb3</td>\n",
       "      <td>12.0</td>\n",
       "      <td>60.50</td>\n",
       "      <td>178.0</td>\n",
       "      <td>8.0</td>\n",
       "      <td>1551.20</td>\n",
       "      <td>2016.56</td>\n",
       "      <td>14.47300</td>\n",
       "      <td>44.5863</td>\n",
       "      <td>80.7024</td>\n",
       "      <td>0.0</td>\n",
       "      <td>0.0</td>\n",
       "      <td>0.035210</td>\n",
       "      <td>0.032946</td>\n",
       "      <td>0.033677</td>\n",
       "      <td>0.005423</td>\n",
       "      <td>0.052328</td>\n",
       "      <td>0.000059</td>\n",
       "    </tr>\n",
       "    <tr>\n",
       "      <th>7</th>\n",
       "      <td>02cebf33</td>\n",
       "      <td>12.0</td>\n",
       "      <td>62.00</td>\n",
       "      <td>108.0</td>\n",
       "      <td>30.0</td>\n",
       "      <td>1300.75</td>\n",
       "      <td>2081.19</td>\n",
       "      <td>27.19050</td>\n",
       "      <td>38.5561</td>\n",
       "      <td>60.5743</td>\n",
       "      <td>1.0</td>\n",
       "      <td>1.0</td>\n",
       "      <td>0.711983</td>\n",
       "      <td>0.014279</td>\n",
       "      <td>0.034756</td>\n",
       "      <td>0.006837</td>\n",
       "      <td>0.049584</td>\n",
       "      <td>0.000039</td>\n",
       "    </tr>\n",
       "    <tr>\n",
       "      <th>...</th>\n",
       "      <td>...</td>\n",
       "      <td>...</td>\n",
       "      <td>...</td>\n",
       "      <td>...</td>\n",
       "      <td>...</td>\n",
       "      <td>...</td>\n",
       "      <td>...</td>\n",
       "      <td>...</td>\n",
       "      <td>...</td>\n",
       "      <td>...</td>\n",
       "      <td>...</td>\n",
       "      <td>...</td>\n",
       "      <td>...</td>\n",
       "      <td>...</td>\n",
       "      <td>...</td>\n",
       "      <td>...</td>\n",
       "      <td>...</td>\n",
       "      <td>...</td>\n",
       "    </tr>\n",
       "    <tr>\n",
       "      <th>964</th>\n",
       "      <td>fdc11b96</td>\n",
       "      <td>13.0</td>\n",
       "      <td>66.00</td>\n",
       "      <td>185.0</td>\n",
       "      <td>18.0</td>\n",
       "      <td>1662.35</td>\n",
       "      <td>2659.76</td>\n",
       "      <td>14.47300</td>\n",
       "      <td>54.8182</td>\n",
       "      <td>88.2803</td>\n",
       "      <td>2.0</td>\n",
       "      <td>0.0</td>\n",
       "      <td>0.126315</td>\n",
       "      <td>0.028964</td>\n",
       "      <td>0.033266</td>\n",
       "      <td>0.012621</td>\n",
       "      <td>0.043773</td>\n",
       "      <td>0.000293</td>\n",
       "    </tr>\n",
       "    <tr>\n",
       "      <th>966</th>\n",
       "      <td>fdf4691f</td>\n",
       "      <td>9.0</td>\n",
       "      <td>58.00</td>\n",
       "      <td>94.6</td>\n",
       "      <td>10.0</td>\n",
       "      <td>1184.61</td>\n",
       "      <td>1895.37</td>\n",
       "      <td>26.16060</td>\n",
       "      <td>29.2277</td>\n",
       "      <td>49.2268</td>\n",
       "      <td>2.0</td>\n",
       "      <td>0.0</td>\n",
       "      <td>0.175629</td>\n",
       "      <td>0.045411</td>\n",
       "      <td>0.054394</td>\n",
       "      <td>0.006048</td>\n",
       "      <td>0.086978</td>\n",
       "      <td>0.001387</td>\n",
       "    </tr>\n",
       "    <tr>\n",
       "      <th>967</th>\n",
       "      <td>fe9c71d8</td>\n",
       "      <td>9.0</td>\n",
       "      <td>56.75</td>\n",
       "      <td>72.8</td>\n",
       "      <td>8.0</td>\n",
       "      <td>1116.86</td>\n",
       "      <td>2345.40</td>\n",
       "      <td>11.57690</td>\n",
       "      <td>25.8365</td>\n",
       "      <td>44.6590</td>\n",
       "      <td>0.0</td>\n",
       "      <td>0.0</td>\n",
       "      <td>0.137257</td>\n",
       "      <td>0.043686</td>\n",
       "      <td>0.045263</td>\n",
       "      <td>0.010077</td>\n",
       "      <td>0.072284</td>\n",
       "      <td>0.000381</td>\n",
       "    </tr>\n",
       "    <tr>\n",
       "      <th>968</th>\n",
       "      <td>fecc07d6</td>\n",
       "      <td>7.0</td>\n",
       "      <td>49.00</td>\n",
       "      <td>54.6</td>\n",
       "      <td>4.0</td>\n",
       "      <td>1002.34</td>\n",
       "      <td>1603.74</td>\n",
       "      <td>7.37455</td>\n",
       "      <td>21.0046</td>\n",
       "      <td>39.3149</td>\n",
       "      <td>0.0</td>\n",
       "      <td>0.0</td>\n",
       "      <td>0.939101</td>\n",
       "      <td>0.002962</td>\n",
       "      <td>0.015427</td>\n",
       "      <td>0.001789</td>\n",
       "      <td>0.050686</td>\n",
       "      <td>0.000000</td>\n",
       "    </tr>\n",
       "    <tr>\n",
       "      <th>970</th>\n",
       "      <td>ffcd4dbd</td>\n",
       "      <td>11.0</td>\n",
       "      <td>60.00</td>\n",
       "      <td>109.8</td>\n",
       "      <td>15.0</td>\n",
       "      <td>1253.74</td>\n",
       "      <td>2005.99</td>\n",
       "      <td>33.99670</td>\n",
       "      <td>28.7792</td>\n",
       "      <td>54.4630</td>\n",
       "      <td>0.0</td>\n",
       "      <td>1.0</td>\n",
       "      <td>0.020323</td>\n",
       "      <td>0.028601</td>\n",
       "      <td>0.028744</td>\n",
       "      <td>0.003221</td>\n",
       "      <td>0.048345</td>\n",
       "      <td>0.000052</td>\n",
       "    </tr>\n",
       "  </tbody>\n",
       "</table>\n",
       "<p>572 rows × 18 columns</p>\n",
       "</div>"
      ],
      "text/plain": [
       "           id  Basic_Demos-Age  Physical-Height  Physical-Weight  FGC-FGC_CU  \\\n",
       "0    00115b9f              9.0            56.00             81.6        18.0   \n",
       "1    001f3379             13.0            59.50            112.2        12.0   \n",
       "2    00f332d1             14.0            66.50            108.0        16.0   \n",
       "3    01085eb3             12.0            60.50            178.0         8.0   \n",
       "7    02cebf33             12.0            62.00            108.0        30.0   \n",
       "..        ...              ...              ...              ...         ...   \n",
       "964  fdc11b96             13.0            66.00            185.0        18.0   \n",
       "966  fdf4691f              9.0            58.00             94.6        10.0   \n",
       "967  fe9c71d8              9.0            56.75             72.8         8.0   \n",
       "968  fecc07d6              7.0            49.00             54.6         4.0   \n",
       "970  ffcd4dbd             11.0            60.00            109.8        15.0   \n",
       "\n",
       "     BIA-BIA_BMR  BIA-BIA_DEE  BIA-BIA_Fat  BIA-BIA_SMM  BIA-BIA_TBW  \\\n",
       "0        1131.43      1923.44     18.82430      26.4798      45.9966   \n",
       "1        1330.97      1996.45     14.47300      35.3804      63.1265   \n",
       "2        1414.24      2969.90     15.10200      42.1074      68.6822   \n",
       "3        1551.20      2016.56     14.47300      44.5863      80.7024   \n",
       "7        1300.75      2081.19     27.19050      38.5561      60.5743   \n",
       "..           ...          ...          ...          ...          ...   \n",
       "964      1662.35      2659.76     14.47300      54.8182      88.2803   \n",
       "966      1184.61      1895.37     26.16060      29.2277      49.2268   \n",
       "967      1116.86      2345.40     11.57690      25.8365      44.6590   \n",
       "968      1002.34      1603.74      7.37455      21.0046      39.3149   \n",
       "970      1253.74      2005.99     33.99670      28.7792      54.4630   \n",
       "\n",
       "     PreInt_EduHx-computerinternet_hoursday  sii  non_wear_ratio  enmo_avg  \\\n",
       "0                                       0.0  1.0        0.000000  0.047388   \n",
       "1                                       0.0  1.0        0.655708  0.011926   \n",
       "2                                       2.0  1.0        0.171246  0.030255   \n",
       "3                                       0.0  0.0        0.035210  0.032946   \n",
       "7                                       1.0  1.0        0.711983  0.014279   \n",
       "..                                      ...  ...             ...       ...   \n",
       "964                                     2.0  0.0        0.126315  0.028964   \n",
       "966                                     2.0  0.0        0.175629  0.045411   \n",
       "967                                     0.0  0.0        0.137257  0.043686   \n",
       "968                                     0.0  0.0        0.939101  0.002962   \n",
       "970                                     0.0  1.0        0.020323  0.028601   \n",
       "\n",
       "     enmo_wear  enmo_night  enmo_day  enmo_high  \n",
       "0     0.047388    0.026886  0.047848   0.000231  \n",
       "1     0.016461    0.005247  0.025072   0.000008  \n",
       "2     0.036441    0.005242  0.065173   0.000317  \n",
       "3     0.033677    0.005423  0.052328   0.000059  \n",
       "7     0.034756    0.006837  0.049584   0.000039  \n",
       "..         ...         ...       ...        ...  \n",
       "964   0.033266    0.012621  0.043773   0.000293  \n",
       "966   0.054394    0.006048  0.086978   0.001387  \n",
       "967   0.045263    0.010077  0.072284   0.000381  \n",
       "968   0.015427    0.001789  0.050686   0.000000  \n",
       "970   0.028744    0.003221  0.048345   0.000052  \n",
       "\n",
       "[572 rows x 18 columns]"
      ]
     },
     "metadata": {},
     "output_type": "display_data"
    },
    {
     "name": "stdout",
     "output_type": "stream",
     "text": [
      "Merged Data length: 572\n"
     ]
    }
   ],
   "source": [
    "merged = pd.merge(train_selected_features, phys_df, on=['id', 'sii'], how='right')\n",
    "\n",
    "merged = merged.dropna()\n",
    "display(merged)\n",
    "print(f'Merged Data length: {len(merged)}')"
   ]
  },
  {
   "cell_type": "markdown",
   "metadata": {},
   "source": [
    "## Run Models\n",
    "\n",
    "### Only Training Data - Logisitic Regression"
   ]
  },
  {
   "cell_type": "code",
   "execution_count": 8,
   "metadata": {},
   "outputs": [
    {
     "name": "stdout",
     "output_type": "stream",
     "text": [
      "Accuracy: 60.40%\n"
     ]
    }
   ],
   "source": [
    "X = train_selected_features.drop(columns=['id', 'sii'])  \n",
    "y = train_selected_features['sii']  \n",
    "\n",
    "# Step 2: Train-test split\n",
    "X_train, X_test, y_train, y_test = train_test_split(X, y, test_size=0.2, random_state=42)\n",
    "\n",
    "# Step 3: Initialize and train the Logistic Regression model\n",
    "model = make_pipeline(StandardScaler(), LogisticRegression(max_iter=200, random_state=42))\n",
    "model.fit(X_train, y_train)\n",
    "\n",
    "# Step 4: Predict on the test set\n",
    "y_pred = model.predict(X_test)\n",
    "\n",
    "# Step 5: Evaluate the model\n",
    "accuracy = accuracy_score(y_test, y_pred)\n",
    "print(f\"Accuracy: {accuracy * 100:.2f}%\")"
   ]
  },
  {
   "cell_type": "markdown",
   "metadata": {},
   "source": [
    "### Merged Data - Logistic Regression"
   ]
  },
  {
   "cell_type": "code",
   "execution_count": 10,
   "metadata": {},
   "outputs": [
    {
     "name": "stdout",
     "output_type": "stream",
     "text": [
      "Accuracy: 59.13%\n"
     ]
    }
   ],
   "source": [
    "X = merged.drop(columns=['id', 'sii'])  \n",
    "X = X.drop(columns=[\"non_wear_ratio\"])\n",
    "y = merged['sii']  \n",
    "\n",
    "# Step 2: Train-test split\n",
    "X_train, X_test, y_train, y_test = train_test_split(X, y, test_size=0.2, random_state=42)\n",
    "\n",
    "# Step 3: Initialize and train the Logistic Regression model\n",
    "model = make_pipeline(StandardScaler(), LogisticRegression(max_iter=200, random_state=42, class_weight={0: 1, 1: 1, 2: 2, 3: 4}))\n",
    "model.fit(X_train, y_train)\n",
    "\n",
    "# Step 4: Predict on the test set\n",
    "y_pred = model.predict(X_test)\n",
    "\n",
    "# Step 5: Evaluate the model\n",
    "accuracy = accuracy_score(y_test, y_pred)\n",
    "print(f\"Accuracy: {accuracy * 100:.2f}%\")\n"
   ]
  },
  {
   "cell_type": "markdown",
   "metadata": {},
   "source": [
    "### Only Physiological Data"
   ]
  },
  {
   "cell_type": "code",
   "execution_count": 11,
   "metadata": {},
   "outputs": [
    {
     "name": "stdout",
     "output_type": "stream",
     "text": [
      "Accuracy: 55.38%\n"
     ]
    }
   ],
   "source": [
    "X = phys_df.drop(columns=['id', 'sii'])  \n",
    "y = phys_df['sii']  \n",
    "\n",
    "# Step 2: Train-test split\n",
    "X_train, X_test, y_train, y_test = train_test_split(X, y, test_size=0.2, random_state=42)\n",
    "\n",
    "# Step 3: Initialize and train the Logistic Regression model\n",
    "model = make_pipeline(StandardScaler(), LogisticRegression(max_iter=200, random_state=42))\n",
    "model.fit(X_train, y_train)\n",
    "\n",
    "# Step 4: Predict on the test set\n",
    "y_pred = model.predict(X_test)\n",
    "\n",
    "# Step 5: Evaluate the model\n",
    "accuracy = accuracy_score(y_test, y_pred)\n",
    "print(f\"Accuracy: {accuracy * 100:.2f}%\")"
   ]
  },
  {
   "cell_type": "markdown",
   "metadata": {},
   "source": [
    "## More Feature Selection"
   ]
  },
  {
   "cell_type": "code",
   "execution_count": 12,
   "metadata": {},
   "outputs": [
    {
     "name": "stdout",
     "output_type": "stream",
     "text": [
      "sii                                       1.000000\n",
      "Physical-Height                           0.373530\n",
      "Basic_Demos-Age                           0.365990\n",
      "PreInt_EduHx-computerinternet_hoursday    0.336526\n",
      "Physical-Weight                           0.325938\n",
      "Physical-Waist_Circumference              0.272885\n",
      "FGC-FGC_CU                                0.247364\n",
      "SDS-SDS_Total_T                           0.232982\n",
      "SDS-SDS_Total_Raw                         0.229692\n",
      "BIA-BIA_BMI                               0.227818\n",
      "Physical-BMI                              0.221125\n",
      "FGC-FGC_PU                                0.177125\n",
      "BIA-BIA_Frame_num                         0.165936\n",
      "FGC-FGC_GSD                               0.163448\n",
      "FGC-FGC_GSND                              0.149495\n",
      "Physical-Systolic_BP                      0.135336\n",
      "FGC-FGC_TL                                0.107623\n",
      "BIA-BIA_FFMI                              0.102702\n",
      "BIA-BIA_FMI                               0.077054\n",
      "BIA-BIA_LST                               0.067603\n",
      "BIA-BIA_Activity_Level_num                0.060085\n",
      "Physical-Diastolic_BP                     0.050971\n",
      "FGC-FGC_PU_Zone                           0.048652\n",
      "BIA-BIA_SMM                               0.046692\n",
      "BIA-BIA_ICW                               0.046653\n",
      "BIA-BIA_DEE                               0.045239\n",
      "BIA-BIA_TBW                               0.037513\n",
      "BIA-BIA_Fat                               0.037357\n",
      "BIA-BIA_BMR                               0.031965\n",
      "BIA-BIA_FFM                               0.031965\n",
      "BIA-BIA_ECW                               0.030414\n",
      "FGC-FGC_GSD_Zone                          0.023696\n",
      "BIA-BIA_LDM                               0.021696\n",
      "Fitness_Endurance-Time_Sec                0.008701\n",
      "PAQ_C-PAQ_C_Total                         0.005665\n",
      "FGC-FGC_GSND_Zone                         0.001667\n",
      "BIA-BIA_BMC                              -0.010336\n",
      "FGC-FGC_CU_Zone                          -0.023944\n",
      "Physical-HeartRate                       -0.024572\n",
      "FGC-FGC_TL_Zone                          -0.026753\n",
      "FGC-FGC_SRR                              -0.035858\n",
      "FGC-FGC_SRL                              -0.049257\n",
      "PAQ_A-PAQ_A_Total                        -0.050386\n",
      "Fitness_Endurance-Time_Mins              -0.060628\n",
      "FGC-FGC_SRR_Zone                         -0.068528\n",
      "Fitness_Endurance-Max_Stage              -0.070589\n",
      "CGAS-CGAS_Score                          -0.085261\n",
      "Basic_Demos-Sex                          -0.100148\n",
      "FGC-FGC_SRL_Zone                         -0.112497\n",
      "Name: sii, dtype: float64\n"
     ]
    }
   ],
   "source": [
    "feat_lst = list(data.columns)\n",
    "feat_lst.remove('id')\n",
    "rm_lst = []\n",
    "for feat in feat_lst:\n",
    "    if feat.endswith(\"Season\"):\n",
    "        rm_lst.append(feat)\n",
    "    elif feat.startswith(\"PCIAT\"):\n",
    "        rm_lst.append(feat)\n",
    "for feat in rm_lst:\n",
    "    feat_lst.remove(feat)\n",
    "        \n",
    "corr_matrix = data[feat_lst].corr(method='pearson')\n",
    "sii_corr = corr_matrix['sii'].sort_values(ascending=False)\n",
    "print(sii_corr)\n"
   ]
  },
  {
   "cell_type": "code",
   "execution_count": 13,
   "metadata": {},
   "outputs": [
    {
     "name": "stdout",
     "output_type": "stream",
     "text": [
      "sii               1.000000\n",
      "non_wear_ratio    0.121539\n",
      "enmo_night       -0.035987\n",
      "enmo_high        -0.108048\n",
      "enmo_avg         -0.210345\n",
      "enmo_wear        -0.236801\n",
      "enmo_day         -0.262213\n",
      "Name: sii, dtype: float64\n"
     ]
    }
   ],
   "source": [
    "feat_lst = list(phys_df.columns)\n",
    "feat_lst.remove('id')\n",
    "rm_lst = []\n",
    "for feat in feat_lst:\n",
    "    if feat.endswith(\"Season\"):\n",
    "        rm_lst.append(feat)\n",
    "    elif feat.startswith(\"PCIAT\"):\n",
    "        rm_lst.append(feat)\n",
    "for feat in rm_lst:\n",
    "    feat_lst.remove(feat)\n",
    "        \n",
    "corr_matrix = phys_df[feat_lst].corr(method='pearson')\n",
    "sii_corr = corr_matrix['sii'].sort_values(ascending=False)\n",
    "print(sii_corr)"
   ]
  },
  {
   "cell_type": "code",
   "execution_count": 14,
   "metadata": {},
   "outputs": [
    {
     "name": "stdout",
     "output_type": "stream",
     "text": [
      "sii                                       1.000000\n",
      "Basic_Demos-Age                           0.433762\n",
      "Physical-Height                           0.415499\n",
      "PreInt_EduHx-computerinternet_hoursday    0.400344\n",
      "Physical-Weight                           0.344015\n",
      "BIA-BIA_BMR                               0.309847\n",
      "BIA-BIA_DEE                               0.302919\n",
      "FGC-FGC_CU                                0.298773\n",
      "BIA-BIA_TBW                               0.297511\n",
      "BIA-BIA_SMM                               0.271701\n",
      "BIA-BIA_Fat                               0.202018\n",
      "non_wear_ratio                            0.144768\n",
      "enmo_night                               -0.033235\n",
      "enmo_high                                -0.070758\n",
      "enmo_avg                                 -0.206280\n",
      "enmo_wear                                -0.237759\n",
      "enmo_day                                 -0.273086\n",
      "Name: sii, dtype: float64\n"
     ]
    }
   ],
   "source": [
    "feat_lst = list(merged.columns)\n",
    "feat_lst.remove('id')\n",
    "rm_lst = []\n",
    "for feat in feat_lst:\n",
    "    if feat.endswith(\"Season\"):\n",
    "        rm_lst.append(feat)\n",
    "    elif feat.startswith(\"PCIAT\"):\n",
    "        rm_lst.append(feat)\n",
    "for feat in rm_lst:\n",
    "    feat_lst.remove(feat)\n",
    "        \n",
    "corr_matrix = merged[feat_lst].corr(method='pearson')\n",
    "sii_corr = corr_matrix['sii'].sort_values(ascending=False)\n",
    "print(sii_corr)"
   ]
  },
  {
   "cell_type": "markdown",
   "metadata": {},
   "source": [
    "### Merged Data with feature selection - Logistic Regression"
   ]
  },
  {
   "cell_type": "code",
   "execution_count": 16,
   "metadata": {},
   "outputs": [
    {
     "name": "stdout",
     "output_type": "stream",
     "text": [
      "Accuracy: 64.35%\n"
     ]
    }
   ],
   "source": [
    "X = merged.drop(columns=['id', 'sii'])  \n",
    "X = X.drop(columns=[\"enmo_night\", \"BIA-BIA_Fat\", \"enmo_high\", \"non_wear_ratio\"])\n",
    "y = merged['sii']  \n",
    "\n",
    "# Step 2: Train-test split\n",
    "X_train, X_test, y_train, y_test = train_test_split(X, y, test_size=0.2)\n",
    "\n",
    "# Step 3: Initialize and train the Logistic Regression model\n",
    "model = make_pipeline(StandardScaler(), LogisticRegression(max_iter=300, random_state=42))\n",
    "model.fit(X_train, y_train)\n",
    "\n",
    "# Step 4: Predict on the test set\n",
    "y_pred = model.predict(X_test)\n",
    "\n",
    "# Step 5: Evaluate the model\n",
    "accuracy = accuracy_score(y_test, y_pred)\n",
    "print(f\"Accuracy: {accuracy * 100:.2f}%\")\n"
   ]
  },
  {
   "cell_type": "markdown",
   "metadata": {},
   "source": [
    "### Merged Data feature selection - Decision Tree"
   ]
  },
  {
   "cell_type": "code",
   "execution_count": 17,
   "metadata": {},
   "outputs": [
    {
     "name": "stdout",
     "output_type": "stream",
     "text": [
      "|--- Physical-Height <= -0.43\n",
      "|   |--- enmo_high <= 2.59\n",
      "|   |   |--- BIA-BIA_SMM <= -0.34\n",
      "|   |   |   |--- class: 0.0\n",
      "|   |   |--- BIA-BIA_SMM >  -0.34\n",
      "|   |   |   |--- class: 0.0\n",
      "|   |--- enmo_high >  2.59\n",
      "|   |   |--- enmo_high <= 3.83\n",
      "|   |   |   |--- class: 1.0\n",
      "|   |   |--- enmo_high >  3.83\n",
      "|   |   |   |--- class: 0.0\n",
      "|--- Physical-Height >  -0.43\n",
      "|   |--- PreInt_EduHx-computerinternet_hoursday <= -0.42\n",
      "|   |   |--- enmo_wear <= -0.84\n",
      "|   |   |   |--- class: 2.0\n",
      "|   |   |--- enmo_wear >  -0.84\n",
      "|   |   |   |--- class: 0.0\n",
      "|   |--- PreInt_EduHx-computerinternet_hoursday >  -0.42\n",
      "|   |   |--- enmo_day <= -0.86\n",
      "|   |   |   |--- class: 2.0\n",
      "|   |   |--- enmo_day >  -0.86\n",
      "|   |   |   |--- class: 1.0\n",
      "\n",
      "Accuracy: 61.74%\n"
     ]
    }
   ],
   "source": [
    "from sklearn.tree import DecisionTreeClassifier, export_text\n",
    "X = merged.drop(columns=['id', 'sii'])  \n",
    "#X = X.drop(columns=[\"enmo_night\", \"acc_cnt_night\", \"BIA-BIA_Fat\", \"enmo_high\", \"acc_cnt_night\", \"non_wear_ratio\"])\n",
    "y = merged['sii']  \n",
    "\n",
    "# Step 2: Train-test split\n",
    "X_train, X_test, y_train, y_test = train_test_split(X, y, test_size=0.2)\n",
    "\n",
    "classW = {0: 1, 1: 1, 2: 2, 3: 4}\n",
    "# Step 3: Initialize and train the Logistic Regression model\n",
    "t = DecisionTreeClassifier(max_depth=3)\n",
    "t = DecisionTreeClassifier(max_depth=3, class_weight=classW)\n",
    "model = make_pipeline(StandardScaler(), t)\n",
    "model.fit(X_train, y_train)\n",
    "print(export_text(t, feature_names=X.columns)),\n",
    "\n",
    "# Step 4: Predict on the test set\n",
    "y_pred = model.predict(X_test)\n",
    "\n",
    "# Step 5: Evaluate the model\n",
    "accuracy = accuracy_score(y_test, y_pred)\n",
    "print(f\"Accuracy: {accuracy * 100:.2f}%\")\n"
   ]
  },
  {
   "cell_type": "markdown",
   "metadata": {},
   "source": [
    "### Merged feature selected - SVM"
   ]
  },
  {
   "cell_type": "code",
   "execution_count": null,
   "metadata": {},
   "outputs": [
    {
     "ename": "KeyError",
     "evalue": "\"['acc_cnt_night', 'acc_cnt_night'] not found in axis\"",
     "output_type": "error",
     "traceback": [
      "\u001b[0;31m---------------------------------------------------------------------------\u001b[0m",
      "\u001b[0;31mKeyError\u001b[0m                                  Traceback (most recent call last)",
      "Cell \u001b[0;32mIn[18], line 3\u001b[0m\n\u001b[1;32m      1\u001b[0m \u001b[38;5;28;01mfrom\u001b[39;00m \u001b[38;5;21;01msklearn\u001b[39;00m \u001b[38;5;28;01mimport\u001b[39;00m svm\n\u001b[1;32m      2\u001b[0m X \u001b[38;5;241m=\u001b[39m merged\u001b[38;5;241m.\u001b[39mdrop(columns\u001b[38;5;241m=\u001b[39m[\u001b[38;5;124m'\u001b[39m\u001b[38;5;124mid\u001b[39m\u001b[38;5;124m'\u001b[39m, \u001b[38;5;124m'\u001b[39m\u001b[38;5;124msii\u001b[39m\u001b[38;5;124m'\u001b[39m])  \n\u001b[0;32m----> 3\u001b[0m X \u001b[38;5;241m=\u001b[39m \u001b[43mX\u001b[49m\u001b[38;5;241;43m.\u001b[39;49m\u001b[43mdrop\u001b[49m\u001b[43m(\u001b[49m\u001b[43mcolumns\u001b[49m\u001b[38;5;241;43m=\u001b[39;49m\u001b[43m[\u001b[49m\u001b[38;5;124;43m\"\u001b[39;49m\u001b[38;5;124;43menmo_night\u001b[39;49m\u001b[38;5;124;43m\"\u001b[39;49m\u001b[43m,\u001b[49m\u001b[43m \u001b[49m\u001b[38;5;124;43m\"\u001b[39;49m\u001b[38;5;124;43macc_cnt_night\u001b[39;49m\u001b[38;5;124;43m\"\u001b[39;49m\u001b[43m,\u001b[49m\u001b[43m \u001b[49m\u001b[38;5;124;43m\"\u001b[39;49m\u001b[38;5;124;43mBIA-BIA_Fat\u001b[39;49m\u001b[38;5;124;43m\"\u001b[39;49m\u001b[43m,\u001b[49m\u001b[43m \u001b[49m\u001b[38;5;124;43m\"\u001b[39;49m\u001b[38;5;124;43menmo_high\u001b[39;49m\u001b[38;5;124;43m\"\u001b[39;49m\u001b[43m,\u001b[49m\u001b[43m \u001b[49m\u001b[38;5;124;43m\"\u001b[39;49m\u001b[38;5;124;43macc_cnt_night\u001b[39;49m\u001b[38;5;124;43m\"\u001b[39;49m\u001b[43m,\u001b[49m\u001b[43m \u001b[49m\u001b[38;5;124;43m\"\u001b[39;49m\u001b[38;5;124;43mnon_wear_ratio\u001b[39;49m\u001b[38;5;124;43m\"\u001b[39;49m\u001b[43m]\u001b[49m\u001b[43m)\u001b[49m\n\u001b[1;32m      4\u001b[0m y \u001b[38;5;241m=\u001b[39m merged[\u001b[38;5;124m'\u001b[39m\u001b[38;5;124msii\u001b[39m\u001b[38;5;124m'\u001b[39m]  \n\u001b[1;32m      6\u001b[0m \u001b[38;5;66;03m# Step 2: Train-test split\u001b[39;00m\n",
      "File \u001b[0;32m~/.pyenv/versions/3.10.1/lib/python3.10/site-packages/pandas/core/frame.py:5568\u001b[0m, in \u001b[0;36mDataFrame.drop\u001b[0;34m(self, labels, axis, index, columns, level, inplace, errors)\u001b[0m\n\u001b[1;32m   5420\u001b[0m \u001b[38;5;28;01mdef\u001b[39;00m \u001b[38;5;21mdrop\u001b[39m(\n\u001b[1;32m   5421\u001b[0m     \u001b[38;5;28mself\u001b[39m,\n\u001b[1;32m   5422\u001b[0m     labels: IndexLabel \u001b[38;5;241m|\u001b[39m \u001b[38;5;28;01mNone\u001b[39;00m \u001b[38;5;241m=\u001b[39m \u001b[38;5;28;01mNone\u001b[39;00m,\n\u001b[0;32m   (...)\u001b[0m\n\u001b[1;32m   5429\u001b[0m     errors: IgnoreRaise \u001b[38;5;241m=\u001b[39m \u001b[38;5;124m\"\u001b[39m\u001b[38;5;124mraise\u001b[39m\u001b[38;5;124m\"\u001b[39m,\n\u001b[1;32m   5430\u001b[0m ) \u001b[38;5;241m-\u001b[39m\u001b[38;5;241m>\u001b[39m DataFrame \u001b[38;5;241m|\u001b[39m \u001b[38;5;28;01mNone\u001b[39;00m:\n\u001b[1;32m   5431\u001b[0m \u001b[38;5;250m    \u001b[39m\u001b[38;5;124;03m\"\"\"\u001b[39;00m\n\u001b[1;32m   5432\u001b[0m \u001b[38;5;124;03m    Drop specified labels from rows or columns.\u001b[39;00m\n\u001b[1;32m   5433\u001b[0m \n\u001b[0;32m   (...)\u001b[0m\n\u001b[1;32m   5566\u001b[0m \u001b[38;5;124;03m            weight  1.0     0.8\u001b[39;00m\n\u001b[1;32m   5567\u001b[0m \u001b[38;5;124;03m    \"\"\"\u001b[39;00m\n\u001b[0;32m-> 5568\u001b[0m     \u001b[38;5;28;01mreturn\u001b[39;00m \u001b[38;5;28;43msuper\u001b[39;49m\u001b[43m(\u001b[49m\u001b[43m)\u001b[49m\u001b[38;5;241;43m.\u001b[39;49m\u001b[43mdrop\u001b[49m\u001b[43m(\u001b[49m\n\u001b[1;32m   5569\u001b[0m \u001b[43m        \u001b[49m\u001b[43mlabels\u001b[49m\u001b[38;5;241;43m=\u001b[39;49m\u001b[43mlabels\u001b[49m\u001b[43m,\u001b[49m\n\u001b[1;32m   5570\u001b[0m \u001b[43m        \u001b[49m\u001b[43maxis\u001b[49m\u001b[38;5;241;43m=\u001b[39;49m\u001b[43maxis\u001b[49m\u001b[43m,\u001b[49m\n\u001b[1;32m   5571\u001b[0m \u001b[43m        \u001b[49m\u001b[43mindex\u001b[49m\u001b[38;5;241;43m=\u001b[39;49m\u001b[43mindex\u001b[49m\u001b[43m,\u001b[49m\n\u001b[1;32m   5572\u001b[0m \u001b[43m        \u001b[49m\u001b[43mcolumns\u001b[49m\u001b[38;5;241;43m=\u001b[39;49m\u001b[43mcolumns\u001b[49m\u001b[43m,\u001b[49m\n\u001b[1;32m   5573\u001b[0m \u001b[43m        \u001b[49m\u001b[43mlevel\u001b[49m\u001b[38;5;241;43m=\u001b[39;49m\u001b[43mlevel\u001b[49m\u001b[43m,\u001b[49m\n\u001b[1;32m   5574\u001b[0m \u001b[43m        \u001b[49m\u001b[43minplace\u001b[49m\u001b[38;5;241;43m=\u001b[39;49m\u001b[43minplace\u001b[49m\u001b[43m,\u001b[49m\n\u001b[1;32m   5575\u001b[0m \u001b[43m        \u001b[49m\u001b[43merrors\u001b[49m\u001b[38;5;241;43m=\u001b[39;49m\u001b[43merrors\u001b[49m\u001b[43m,\u001b[49m\n\u001b[1;32m   5576\u001b[0m \u001b[43m    \u001b[49m\u001b[43m)\u001b[49m\n",
      "File \u001b[0;32m~/.pyenv/versions/3.10.1/lib/python3.10/site-packages/pandas/core/generic.py:4785\u001b[0m, in \u001b[0;36mNDFrame.drop\u001b[0;34m(self, labels, axis, index, columns, level, inplace, errors)\u001b[0m\n\u001b[1;32m   4783\u001b[0m \u001b[38;5;28;01mfor\u001b[39;00m axis, labels \u001b[38;5;129;01min\u001b[39;00m axes\u001b[38;5;241m.\u001b[39mitems():\n\u001b[1;32m   4784\u001b[0m     \u001b[38;5;28;01mif\u001b[39;00m labels \u001b[38;5;129;01mis\u001b[39;00m \u001b[38;5;129;01mnot\u001b[39;00m \u001b[38;5;28;01mNone\u001b[39;00m:\n\u001b[0;32m-> 4785\u001b[0m         obj \u001b[38;5;241m=\u001b[39m \u001b[43mobj\u001b[49m\u001b[38;5;241;43m.\u001b[39;49m\u001b[43m_drop_axis\u001b[49m\u001b[43m(\u001b[49m\u001b[43mlabels\u001b[49m\u001b[43m,\u001b[49m\u001b[43m \u001b[49m\u001b[43maxis\u001b[49m\u001b[43m,\u001b[49m\u001b[43m \u001b[49m\u001b[43mlevel\u001b[49m\u001b[38;5;241;43m=\u001b[39;49m\u001b[43mlevel\u001b[49m\u001b[43m,\u001b[49m\u001b[43m \u001b[49m\u001b[43merrors\u001b[49m\u001b[38;5;241;43m=\u001b[39;49m\u001b[43merrors\u001b[49m\u001b[43m)\u001b[49m\n\u001b[1;32m   4787\u001b[0m \u001b[38;5;28;01mif\u001b[39;00m inplace:\n\u001b[1;32m   4788\u001b[0m     \u001b[38;5;28mself\u001b[39m\u001b[38;5;241m.\u001b[39m_update_inplace(obj)\n",
      "File \u001b[0;32m~/.pyenv/versions/3.10.1/lib/python3.10/site-packages/pandas/core/generic.py:4827\u001b[0m, in \u001b[0;36mNDFrame._drop_axis\u001b[0;34m(self, labels, axis, level, errors, only_slice)\u001b[0m\n\u001b[1;32m   4825\u001b[0m         new_axis \u001b[38;5;241m=\u001b[39m axis\u001b[38;5;241m.\u001b[39mdrop(labels, level\u001b[38;5;241m=\u001b[39mlevel, errors\u001b[38;5;241m=\u001b[39merrors)\n\u001b[1;32m   4826\u001b[0m     \u001b[38;5;28;01melse\u001b[39;00m:\n\u001b[0;32m-> 4827\u001b[0m         new_axis \u001b[38;5;241m=\u001b[39m \u001b[43maxis\u001b[49m\u001b[38;5;241;43m.\u001b[39;49m\u001b[43mdrop\u001b[49m\u001b[43m(\u001b[49m\u001b[43mlabels\u001b[49m\u001b[43m,\u001b[49m\u001b[43m \u001b[49m\u001b[43merrors\u001b[49m\u001b[38;5;241;43m=\u001b[39;49m\u001b[43merrors\u001b[49m\u001b[43m)\u001b[49m\n\u001b[1;32m   4828\u001b[0m     indexer \u001b[38;5;241m=\u001b[39m axis\u001b[38;5;241m.\u001b[39mget_indexer(new_axis)\n\u001b[1;32m   4830\u001b[0m \u001b[38;5;66;03m# Case for non-unique axis\u001b[39;00m\n\u001b[1;32m   4831\u001b[0m \u001b[38;5;28;01melse\u001b[39;00m:\n",
      "File \u001b[0;32m~/.pyenv/versions/3.10.1/lib/python3.10/site-packages/pandas/core/indexes/base.py:7070\u001b[0m, in \u001b[0;36mIndex.drop\u001b[0;34m(self, labels, errors)\u001b[0m\n\u001b[1;32m   7068\u001b[0m \u001b[38;5;28;01mif\u001b[39;00m mask\u001b[38;5;241m.\u001b[39many():\n\u001b[1;32m   7069\u001b[0m     \u001b[38;5;28;01mif\u001b[39;00m errors \u001b[38;5;241m!=\u001b[39m \u001b[38;5;124m\"\u001b[39m\u001b[38;5;124mignore\u001b[39m\u001b[38;5;124m\"\u001b[39m:\n\u001b[0;32m-> 7070\u001b[0m         \u001b[38;5;28;01mraise\u001b[39;00m \u001b[38;5;167;01mKeyError\u001b[39;00m(\u001b[38;5;124mf\u001b[39m\u001b[38;5;124m\"\u001b[39m\u001b[38;5;132;01m{\u001b[39;00mlabels[mask]\u001b[38;5;241m.\u001b[39mtolist()\u001b[38;5;132;01m}\u001b[39;00m\u001b[38;5;124m not found in axis\u001b[39m\u001b[38;5;124m\"\u001b[39m)\n\u001b[1;32m   7071\u001b[0m     indexer \u001b[38;5;241m=\u001b[39m indexer[\u001b[38;5;241m~\u001b[39mmask]\n\u001b[1;32m   7072\u001b[0m \u001b[38;5;28;01mreturn\u001b[39;00m \u001b[38;5;28mself\u001b[39m\u001b[38;5;241m.\u001b[39mdelete(indexer)\n",
      "\u001b[0;31mKeyError\u001b[0m: \"['acc_cnt_night', 'acc_cnt_night'] not found in axis\""
     ]
    }
   ],
   "source": [
    "from sklearn import svm\n",
    "X = merged.drop(columns=['id', 'sii'])  \n",
    "X = X.drop(columns=[\"enmo_night\", \"BIA-BIA_Fat\", \"enmo_high\", \"non_wear_ratio\"])\n",
    "y = merged['sii']  \n",
    "\n",
    "# Step 2: Train-test split\n",
    "X_train, X_test, y_train, y_test = train_test_split(X, y, test_size=0.2, random_state=42)\n",
    "\n",
    "# Step 3: Initialize and train the Logistic Regression model\n",
    "classW = {0: 1, 1: 1, 2: 2, 3: 4}\n",
    "clf = svm.SVC()\n",
    "# clf = DecisionTreeClassifier(max_depth=3, )\n",
    "model = make_pipeline(StandardScaler(), clf)\n",
    "model.fit(X_train, y_train)\n",
    "\n",
    "# Step 4: Predict on the test set\n",
    "y_pred = model.predict(X_test)\n",
    "\n",
    "# Step 5: Evaluate the model\n",
    "accuracy = accuracy_score(y_test, y_pred)\n",
    "print(f\"Accuracy: {accuracy * 100:.2f}%\")\n",
    "\n"
   ]
  },
  {
   "cell_type": "code",
   "execution_count": null,
   "metadata": {},
   "outputs": [],
   "source": []
  },
  {
   "cell_type": "code",
   "execution_count": null,
   "metadata": {},
   "outputs": [],
   "source": []
  }
 ],
 "metadata": {
  "kernelspec": {
   "display_name": "Python 3",
   "language": "python",
   "name": "python3"
  },
  "language_info": {
   "codemirror_mode": {
    "name": "ipython",
    "version": 3
   },
   "file_extension": ".py",
   "mimetype": "text/x-python",
   "name": "python",
   "nbconvert_exporter": "python",
   "pygments_lexer": "ipython3",
   "version": "3.10.1"
  }
 },
 "nbformat": 4,
 "nbformat_minor": 2
}
